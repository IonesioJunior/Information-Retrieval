{
 "cells": [
  {
   "cell_type": "code",
   "execution_count": 1,
   "metadata": {},
   "outputs": [],
   "source": [
    "#coding: utf-8\n",
    "import pandas\n",
    "import nltk\n",
    "\n",
    "__author__ = \"Ionesio Junior\"\n",
    "\n",
    "# Color consts\n",
    "OKGREEN = '\\033[92m'\n",
    "FAIL = '\\033[91m'\n",
    "ENDC = '\\033[0m'\n",
    "\n",
    "match_words = {}"
   ]
  },
  {
   "cell_type": "markdown",
   "metadata": {},
   "source": [
    "### Construindo o dicionário de pesquisa\n",
    "Nosso dicionário de Pesquisa é construído basicamente por 2 métodos.\n",
    "    - extract_words (pega sequencialmente os textos da tabela e separa por palavra associando-as ao ID da notícia)\n",
    "    - add_dictionary (preenche o dicionário com os id's(valor) que possuem aquela determinada palavra(chave))"
   ]
  },
  {
   "cell_type": "code",
   "execution_count": 2,
   "metadata": {},
   "outputs": [],
   "source": [
    "def add_dictionary( info_tuple ):\n",
    "    '''\n",
    "        This method fill lists of news index with match words\n",
    "\n",
    "        Args:\n",
    "            info_tuple(String, Int) : this tuple contain a specific word and index of news\n",
    "    '''\n",
    "    word, index = info_tuple\n",
    "    try:\n",
    "        match_words[ word.lower() ].add(index)\n",
    "    except KeyError:\n",
    "        match_words[ word.lower() ] = set([ index ])"
   ]
  },
  {
   "cell_type": "code",
   "execution_count": 3,
   "metadata": {},
   "outputs": [],
   "source": [
    "def extract_words( text , id_col ):\n",
    "    ''' \n",
    "        This method extract match words from all text tables and store in a dictionary correlating with news index\n",
    "        \n",
    "        Args:\n",
    "                text() : table with text to extract words\n",
    "                id_col : table with news index\n",
    "    '''\n",
    "    [ map( add_dictionary, [ ( word, id_col[i] ) for word in nltk.word_tokenize( text[i] ) ] ) for i in xrange( len(text) ) ]"
   ]
  },
  {
   "cell_type": "markdown",
   "metadata": {},
   "source": [
    "### Buscando dados\n",
    "Com esse método, podemos fazer buscas de múltiplas palavras usando(ou não) operadores AND/OR para restringir/abranger nossos resultados "
   ]
  },
  {
   "cell_type": "code",
   "execution_count": 4,
   "metadata": {},
   "outputs": [],
   "source": [
    "def search( words ):\n",
    "    '''\n",
    "        This method search a set of words using AND/OR operators to guide how to search\n",
    "\n",
    "        Args:\n",
    "                words(String) : string with words to be searched (Ex: word1 AND word2 AND ... | word1 OR word2 OR ... )\n",
    "        Return:\n",
    "                index_list[Int] : list of news index that matches with words\n",
    "    '''\n",
    "    if ( \"AND\" in words ):\n",
    "        list_of_words = map( lambda x: x.strip(), words.split(\"AND\") )\n",
    "        return reduce( lambda x,y : list( x & y ) , [ match_words[word.lower()] for word in list_of_words ]      )\n",
    "    elif (\"OR\" in words ):\n",
    "        list_of_words = map(lambda x: x.strip(), words.split(\"OR\"))\n",
    "        return reduce( lambda x,y : list( x | y ), [ match_words[word.lower()] for word in list_of_words ] )\n",
    "    else:\n",
    "        return list(match_words[words])"
   ]
  },
  {
   "cell_type": "markdown",
   "metadata": {},
   "source": [
    "### Testando o algoritmo\n",
    "Para testar se o algoritmo esta funcionando como deveria, temos um método com alguns casos para comparar o resultado esperado em relação ao recebido."
   ]
  },
  {
   "cell_type": "code",
   "execution_count": 5,
   "metadata": {},
   "outputs": [],
   "source": [
    "def debug_test(text, expected_value):\n",
    "\tresult =  len(search(text)) == expected_value\n",
    "\tif result == True:\n",
    "\t\tprint \"Testing \\\"\" + text + \"\\\"... \" + OKGREEN + \"Sucess!!\" + ENDC\n",
    "\telse:\n",
    "\t\tprint \"Testing \\\"\" + text + \"\\\"... \" + FAIL + \"Fail!!\" + ENDC\n",
    "    \n",
    "\n",
    "def test_search():\n",
    "    #OR\n",
    "    debug_test(\"debate OR presidencial\",1770)\n",
    "    debug_test(\"presidenciáveis OR corruptos\", 164)\n",
    "    debug_test(\"Belo OR Horizonte\", 331)\n",
    "\n",
    "    #AND\n",
    "    debug_test(\"Belo AND Horizonte\", 242)\n",
    "    debug_test(\"presidenciáveis AND corruptos\", 0)\n",
    "    debug_test(\"debate AND presidencial\",201)\n",
    "    debug_test(\"Campina AND Grande\",12)"
   ]
  },
  {
   "cell_type": "markdown",
   "metadata": {},
   "source": [
    "### Rodando\n",
    "Por fim, juntamos todas as peças e testamos para validar se tudo está funcionando da forma correta "
   ]
  },
  {
   "cell_type": "code",
   "execution_count": 6,
   "metadata": {},
   "outputs": [
    {
     "name": "stdout",
     "output_type": "stream",
     "text": [
      "Testing \"debate OR presidencial\"... \u001b[92mSucess!!\u001b[0m\n",
      "Testing \"presidenciáveis OR corruptos\"... \u001b[92mSucess!!\u001b[0m\n",
      "Testing \"Belo OR Horizonte\"... \u001b[92mSucess!!\u001b[0m\n",
      "Testing \"Belo AND Horizonte\"... \u001b[92mSucess!!\u001b[0m\n",
      "Testing \"presidenciáveis AND corruptos\"... \u001b[92mSucess!!\u001b[0m\n",
      "Testing \"debate AND presidencial\"... \u001b[92mSucess!!\u001b[0m\n",
      "Testing \"Campina AND Grande\"... \u001b[92mSucess!!\u001b[0m\n"
     ]
    }
   ],
   "source": [
    "if __name__ == \"__main__\":\n",
    "    file_csv = pandas.read_csv(\"noticias_estadao.csv\")\n",
    "    text = file_csv.titulo + \" \" + file_csv.conteudo\n",
    "    extract_words(text,file_csv.idNoticia)\n",
    "    test_search()"
   ]
  }
 ],
 "metadata": {
  "kernelspec": {
   "display_name": "Python 2",
   "language": "python",
   "name": "python2"
  },
  "language_info": {
   "codemirror_mode": {
    "name": "ipython",
    "version": 2
   },
   "file_extension": ".py",
   "mimetype": "text/x-python",
   "name": "python",
   "nbconvert_exporter": "python",
   "pygments_lexer": "ipython2",
   "version": "2.7.12"
  }
 },
 "nbformat": 4,
 "nbformat_minor": 2
}
