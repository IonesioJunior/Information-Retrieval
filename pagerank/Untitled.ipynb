{
 "cells": [
  {
   "cell_type": "code",
   "execution_count": 4,
   "metadata": {},
   "outputs": [],
   "source": [
    "#coding: utf-8\n",
    "import pandas as pd\n",
    "import numpy as np\n",
    "from operator import itemgetter\n",
    "__author__ = \"Ionésio Junior\"\n",
    "\n",
    "dataset_path = \"data/soc-sign-bitcoinotc.csv\""
   ]
  },
  {
   "cell_type": "markdown",
   "metadata": {},
   "source": [
    "<h2>Read and filter data</h2>\n",
    "As purposed in our lab, we need to read and filter our dataset. The parameter used to filter is \"Evaluation >= 8\""
   ]
  },
  {
   "cell_type": "code",
   "execution_count": 5,
   "metadata": {},
   "outputs": [],
   "source": [
    "def initialize_data_set():\n",
    "    '''\n",
    "        This method will read and filter dataset and return a tuple of lists\n",
    "\n",
    "        Returns:\n",
    "            Tuple(data_src,data_target,nodes): Tuple of lists\n",
    "                data_src[List] : list of transactions source points\n",
    "                data_target[List] : list of transactions destination points\n",
    "                nodes[List]: list of union between data_src and data_target transactions\n",
    "    '''\n",
    "    data = pd.read_csv(dataset_path).query('Evaluation >= 8')\n",
    "    data_src = list(data.Source)\n",
    "    data_target = list(data.Target)\n",
    "    nodes = list(set(data_src).union(set(data_target)))\n",
    "    return (data_src,data_target,nodes)"
   ]
  },
  {
   "cell_type": "markdown",
   "metadata": {},
   "source": [
    "<h2>Adjacency Graph</h2>\n",
    "We need to build a graph to represent the complexity of our problem.This graph will represent the relationship between bitcoins transactions"
   ]
  },
  {
   "cell_type": "code",
   "execution_count": 6,
   "metadata": {},
   "outputs": [],
   "source": [
    "def build_adj_matrix(data_src,data_target):\n",
    "    '''\n",
    "        This method will build an abstraction of graph structure that represents the relationship\n",
    "        between transactions.\n",
    "\n",
    "        Args:\n",
    "            data_src[List]: List of Source columns\n",
    "            data_target[List]: List of target columns\n",
    "        Returns:\n",
    "            adj_dict{ Source : [List of targets] } : dictionary with source and destination transactions\n",
    "    '''\n",
    "    adj_dict = {no:[] for no in nodes}\n",
    "    for i in range(len(data_src)):\n",
    "        adj_dict[data_src[i]].append(data_target[i])\n",
    "    return adj_dict"
   ]
  },
  {
   "cell_type": "markdown",
   "metadata": {},
   "source": [
    "<h2>Pagerank algorithm</h2> \n",
    "This method represents pagerank algorithms saw in suggested video"
   ]
  },
  {
   "cell_type": "code",
   "execution_count": 7,
   "metadata": {},
   "outputs": [],
   "source": [
    "def pagerank(model,treshold,vector,count):\n",
    "    '''\n",
    "        PageRank algorithm\n",
    "\n",
    "        Args:\n",
    "            Model: Used to determine the behavior of algorithm\n",
    "            treshold: Used to determine when pagerank algorithm will converge\n",
    "            vector: Used to compute pagerank algorithm\n",
    "            count: count how many iterations we need to converge\n",
    "        Return:\n",
    "            Tuple([Results of weights], count_of_iterations)\n",
    "    '''\n",
    "    if sum(abs(model*vector-vector)) > treshold:\n",
    "        return pagerank(model,treshold, model*vector, count + 1)\n",
    "    return ( model*vector, count )"
   ]
  },
  {
   "cell_type": "markdown",
   "metadata": {},
   "source": [
    "<h2>Setting and Running Pagerank Algorithm</h2>\n",
    "In this method we will set some parameters to initialize our pagerank algorithm as weight matrix,count of iteractions, model,..."
   ]
  },
  {
   "cell_type": "code",
   "execution_count": 42,
   "metadata": {},
   "outputs": [],
   "source": [
    "def converge_pagerank_algorithm(adj_dict,nodes,w_v):\n",
    "    '''\n",
    "        Used to set up and initialize some parameters used in pagerank algorithm and run it\n",
    "    '''\n",
    "\n",
    "    # Initialize weight matrix with zeros\n",
    "    weight_matrix = [ [0] * len(nodes) for j in range(len(nodes)) ]\n",
    "    \n",
    "    #Fill weight matrix\n",
    "    for i in range(len(nodes)):\n",
    "        for j in range(len(nodes)):\n",
    "            out_degree = len(adj_dict[nodes[i]])\n",
    "            weight_matrix[j][i] = 1/out_degree if nodes[j] in adj_dict[nodes[i]] else 0\n",
    "    weight_matrix = np.matrix(weight_matrix)\n",
    "\n",
    "    #Define parameters to init pagerank algorithm\n",
    "    b = (1/len(nodes)) * np.matrix([[1 for i in range(len(nodes))] for j in range(len(nodes))])\n",
    "    model = w_v * weight_matrix + (1 - w_v) * b\n",
    "    vector = (1/len(nodes)) * np.matrix([[1] for i in range(len(nodes))])\n",
    "    return pagerank(model,0.01,vector,0)"
   ]
  },
  {
   "cell_type": "code",
   "execution_count": 55,
   "metadata": {},
   "outputs": [],
   "source": [
    "def get_top_5_bitcoins_traders(results):\n",
    "    return min(results)"
   ]
  },
  {
   "cell_type": "markdown",
   "metadata": {},
   "source": [
    "<h2>Results</h2>"
   ]
  },
  {
   "cell_type": "code",
   "execution_count": 69,
   "metadata": {},
   "outputs": [
    {
     "ename": "SyntaxError",
     "evalue": "invalid syntax (<ipython-input-69-aeb80e555508>, line 8)",
     "output_type": "error",
     "traceback": [
      "\u001b[0;36m  File \u001b[0;32m\"<ipython-input-69-aeb80e555508>\"\u001b[0;36m, line \u001b[0;32m8\u001b[0m\n\u001b[0;31m    print (str(indexes[i]) :  str(results[i]))\u001b[0m\n\u001b[0m                           ^\u001b[0m\n\u001b[0;31mSyntaxError\u001b[0m\u001b[0;31m:\u001b[0m invalid syntax\n"
     ]
    }
   ],
   "source": [
    "if __name__ == \"__main__\":\n",
    "    data_src,data_target,nodes = initialize_data_set()\n",
    "    adj_dict = build_adj_matrix(data_src,data_target)\n",
    "    result,count = converge_pagerank_algorithm(adj_dict,nodes,0.85)\n",
    "    result = [cell.item(0,0) for cell in result]\n",
    "    indexes, results = get_top_5_bitcoins_traders(result)\n",
    "    for i in range(5):\n",
    "        print (str(indexes[i]) :  str(results[i])\n",
    "    print (\"Question: How many iterations you need to converge pagerank algorithm?\")\n",
    "    print (count)\n",
    "    print(\"Question: How could you use PageRank if you were an investor in bitcoins?\")\n",
    "    print(\"We can use pagerank to guarantee reliability in our transactions through the credibility and influence of the people with greater weight in the graph\")"
   ]
  }
 ],
 "metadata": {
  "kernelspec": {
   "display_name": "Python 3",
   "language": "python",
   "name": "python3"
  },
  "language_info": {
   "codemirror_mode": {
    "name": "ipython",
    "version": 3
   },
   "file_extension": ".py",
   "mimetype": "text/x-python",
   "name": "python",
   "nbconvert_exporter": "python",
   "pygments_lexer": "ipython3",
   "version": "3.6.5"
  }
 },
 "nbformat": 4,
 "nbformat_minor": 2
}
